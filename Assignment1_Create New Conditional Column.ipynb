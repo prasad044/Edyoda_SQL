{
 "cells": [
  {
   "cell_type": "markdown",
   "id": "e585855a",
   "metadata": {},
   "source": [
    "## Assignment-1: Create New Conditional Column"
   ]
  },
  {
   "cell_type": "code",
   "execution_count": 1,
   "id": "8c2cb31d",
   "metadata": {},
   "outputs": [
    {
     "name": "stdout",
     "output_type": "stream",
     "text": [
      "   sales  profit       ship_mode  Total_Cost\n",
      "0    100      10        Same_Day       108.0\n",
      "1    200      20     First_Class       198.0\n",
      "2    300      30  Standard_Class       283.5\n",
      "3    400      40          Others       360.0\n"
     ]
    }
   ],
   "source": [
    "import pandas as pd\n",
    "\n",
    "data = {'sales': [100, 200, 300, 400],\n",
    "        'profit': [10, 20, 30, 40],\n",
    "        'ship_mode': ['Same_Day', 'First_Class', 'Standard_Class', 'Others']}\n",
    "\n",
    "df = pd.DataFrame(data)\n",
    "\n",
    "def calculate_total_cost(row):\n",
    "    if row['ship_mode'] == \"Same_Day\":\n",
    "        surcharge = 0.2\n",
    "    elif row['ship_mode'] == \"First_Class\":\n",
    "        surcharge = 0.1\n",
    "    elif row['ship_mode'] == \"Standard_Class\":\n",
    "        surcharge = 0.05\n",
    "    else:\n",
    "        surcharge = 0\n",
    "\n",
    "    return (row['sales'] - row['profit']) * (1 + surcharge)\n",
    "\n",
    "df['Total_Cost'] = df.apply(calculate_total_cost, axis=1)\n",
    "\n",
    "print(df)"
   ]
  },
  {
   "cell_type": "code",
   "execution_count": null,
   "id": "10924596",
   "metadata": {},
   "outputs": [],
   "source": []
  }
 ],
 "metadata": {
  "kernelspec": {
   "display_name": "Python 3 (ipykernel)",
   "language": "python",
   "name": "python3"
  },
  "language_info": {
   "codemirror_mode": {
    "name": "ipython",
    "version": 3
   },
   "file_extension": ".py",
   "mimetype": "text/x-python",
   "name": "python",
   "nbconvert_exporter": "python",
   "pygments_lexer": "ipython3",
   "version": "3.7.16"
  }
 },
 "nbformat": 4,
 "nbformat_minor": 5
}
